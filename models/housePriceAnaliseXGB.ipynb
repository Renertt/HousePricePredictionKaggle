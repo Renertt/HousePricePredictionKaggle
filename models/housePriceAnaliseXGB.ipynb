{
 "cells": [
  {
   "cell_type": "code",
   "execution_count": null,
   "id": "4cf0b8b9",
   "metadata": {},
   "outputs": [],
   "source": [
    "import pandas as pd\n",
    "from xgboost import XGBRegressor\n",
    "from sklearn.model_selection import train_test_split\n",
    "from sklearn.impute import SimpleImputer\n",
    "from sklearn.metrics import mean_absolute_error\n",
    "import numpy as np\n",
    "import time\n",
    "import json\n",
    "import os"
   ]
  },
  {
   "cell_type": "code",
   "execution_count": null,
   "id": "22b9cd6a",
   "metadata": {},
   "outputs": [],
   "source": [
    "try:\n",
    "    current_dir = os.path.dirname(os.path.abspath(__file__))\n",
    "except NameError:\n",
    "    current_dir = os.getcwd()\n",
    "\n",
    "data_path = os.path.join(current_dir, '..', 'data', 'train.csv')\n",
    "\n",
    "if not os.path.exists(data_path):\n",
    "    data_path = os.path.join(current_dir, 'data', 'train.csv')\n",
    "\n",
    "train_df = pd.read_csv(data_path)"
   ]
  },
  {
   "cell_type": "code",
   "execution_count": null,
   "id": "226426bf",
   "metadata": {},
   "outputs": [],
   "source": [
    "#train_df.info()\n",
    "#train_df[['MSSubClass', 'MSZoning', 'LotArea', 'Utilities', 'Neighborhood',\n",
    "#'Condition1', 'OverallQual', 'OverallCond', 'YearRemodAdd', 'Exterior1st',\n",
    "#'ExterCond', 'Foundation', 'HeatingQC', 'Electrical', '1stFlrSF', 'Functional',\n",
    "#'GarageQual', 'PoolQC', 'Fence', 'MiscFeature', 'MiscVal', 'SaleCondition',\n",
    "#'YrSold']].isnull().sum()"
   ]
  },
  {
   "cell_type": "code",
   "execution_count": null,
   "id": "06b3ed4a",
   "metadata": {},
   "outputs": [],
   "source": [
    "X = train_df[[\n",
    "    'MSSubClass',\n",
    "    'MSZoning',\n",
    "    'LotArea', \n",
    "    #'Utilities', \n",
    "    'Neighborhood',\n",
    "    'Condition1', \n",
    "    'OverallQual', \n",
    "    'OverallCond', \n",
    "    'YearRemodAdd', \n",
    "    'Exterior1st',\n",
    "    'ExterCond', \n",
    "    'Foundation', \n",
    "    'HeatingQC', \n",
    "    'Electrical', \n",
    "    #'1stFlrSF',\n",
    "    'GrLivArea',\n",
    "    'Functional',\n",
    "    'GarageQual', \n",
    "    'PoolQC', \n",
    "    'Fence', \n",
    "    'MiscFeature', \n",
    "    'MiscVal'\n",
    "    #'SaleCondition'\n",
    "    #'YrSold'\n",
    "]].copy()\n",
    "\n",
    "imputer = SimpleImputer(strategy='constant', fill_value='NA')\n",
    "X[[\n",
    "    'Electrical', \n",
    "    'GarageQual', \n",
    "    'PoolQC', \n",
    "    'Fence', \n",
    "    'MiscFeature'\n",
    "]] = imputer.fit_transform(X[[\n",
    "    'Electrical', \n",
    "    'GarageQual', \n",
    "    'PoolQC', \n",
    "    'Fence', \n",
    "    'MiscFeature'\n",
    "]])\n",
    "\n",
    "X['MSSubClass'] = X['MSSubClass'].astype(str)\n",
    "X = pd.get_dummies(X, drop_first=True)\n",
    "\n",
    "print(\"X table size:\", X.shape)\n",
    "print(\"NA:\", X.isnull().sum().sum())"
   ]
  },
  {
   "cell_type": "code",
   "execution_count": null,
   "id": "d6acbada",
   "metadata": {},
   "outputs": [],
   "source": [
    "Y = train_df[['SalePrice']].copy()"
   ]
  },
  {
   "cell_type": "code",
   "execution_count": null,
   "id": "c4775bbc",
   "metadata": {},
   "outputs": [],
   "source": [
    "X_train, X_test, Y_train, Y_test = train_test_split(X, Y, test_size=0.2, random_state=42)"
   ]
  },
  {
   "cell_type": "code",
   "execution_count": null,
   "id": "11e3cb74",
   "metadata": {},
   "outputs": [],
   "source": [
    "housePriceModelXGB = XGBRegressor(\n",
    "    n_estimators=26000,\n",
    "    learning_rate=0.001,\n",
    "    max_depth=5,\n",
    "    subsample=0.8,\n",
    "    colsample_bytree=0.6,\n",
    "    n_jobs=-1,\n",
    "    random_state=42,\n",
    "    device='cuda',\n",
    "    #early_stopping_rounds=100\n",
    ")\n",
    "\n",
    "start = time.time()\n",
    "housePriceModelXGB.fit(X_train, Y_train)\n",
    "end = time.time()\n",
    "\n",
    "print(f\"\\nTraining finished in: {end - start:.3f} seconds\")\n",
    "\n",
    "predictions = housePriceModelXGB.predict(X_test)\n",
    "\n",
    "mae = mean_absolute_error(Y_test, predictions)\n",
    "\n",
    "print(f\"MedinAverage error {mae:,.2f} dollars\") \n",
    "\n",
    "feature_importance = pd.DataFrame({\n",
    "    'feature': X.columns,\n",
    "    'importance': housePriceModelXGB.feature_importances_\n",
    "})\n",
    "\n",
    "feature_importance['base_feature'] = feature_importance['feature'].apply(lambda x: x.split('_')[0])\n",
    "\n",
    "aggregated_importance = feature_importance.groupby('base_feature')['importance'].sum().sort_values(ascending=False)\n",
    "\n",
    "print(\"\\nImportance:\")\n",
    "print(aggregated_importance)"
   ]
  },
  {
   "cell_type": "code",
   "execution_count": null,
   "id": "35e1d243",
   "metadata": {},
   "outputs": [],
   "source": [
    "mape = round((mae / np.mean(Y_train)) * 100, 2)\n",
    "print(\"Model mistaken by:\", mape, \"%\")\n",
    "#print(\"Model mistaken by:\",((mae / np.mean(Y_train)) * 100), \"%\")"
   ]
  },
  {
   "cell_type": "code",
   "execution_count": null,
   "id": "246d9aaa",
   "metadata": {},
   "outputs": [],
   "source": [
    "resultData = {\n",
    "    \"modelName\": \"XGBoost\",\n",
    "    \"mape\": mape\n",
    "}\n",
    "\n",
    "try:\n",
    "    current_dir = os.path.dirname(os.path.abspath(__file__))\n",
    "except NameError:\n",
    "    current_dir = os.getcwd()\n",
    "\n",
    "collectedDataPath = os.path.join(current_dir, '..', 'collectedData', 'resultsXGB.json')\n",
    "\n",
    "if not os.path.exists(collectedDataPath):\n",
    "    collectedDataPath = os.path.join(current_dir, 'collectedData', 'resultsXGB.json')\n",
    "\n",
    "with open(collectedDataPath, 'w') as f:\n",
    "    json.dump(resultData, f)"
   ]
  }
 ],
 "metadata": {
  "kernelspec": {
   "display_name": "venv",
   "language": "python",
   "name": "python3"
  },
  "language_info": {
   "codemirror_mode": {
    "name": "ipython",
    "version": 3
   },
   "file_extension": ".py",
   "mimetype": "text/x-python",
   "name": "python",
   "nbconvert_exporter": "python",
   "pygments_lexer": "ipython3",
   "version": "3.10.12"
  }
 },
 "nbformat": 4,
 "nbformat_minor": 5
}
