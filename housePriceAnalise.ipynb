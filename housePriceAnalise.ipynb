{
 "cells": [
  {
   "cell_type": "code",
   "execution_count": null,
   "id": "4cf0b8b9",
   "metadata": {},
   "outputs": [],
   "source": [
    "import pandas as pd\n",
    "from sklearn.ensemble import RandomForestRegressor\n",
    "from sklearn.multioutput import MultiOutputClassifier\n",
    "from sklearn.model_selection import train_test_split\n",
    "from sklearn.preprocessing import LabelEncoder\n",
    "from sklearn.impute import SimpleImputer\n",
    "from sklearn.metrics import mean_absolute_error\n",
    "import numpy as np\n",
    "import time"
   ]
  },
  {
   "cell_type": "code",
   "execution_count": null,
   "id": "22b9cd6a",
   "metadata": {},
   "outputs": [],
   "source": [
    "train_df = pd.read_csv('data/train.csv')\n",
    "test_dfX = pd.read_csv('data/test.csv')\n",
    "test_dfY = pd.read_csv('data/sample_submission.csv')\n",
    "n_train = train_df.shape[0]\n",
    "filter_df = pd.concat([train_df, test_dfX], ignore_index=True)"
   ]
  },
  {
   "cell_type": "code",
   "execution_count": null,
   "id": "226426bf",
   "metadata": {},
   "outputs": [],
   "source": [
    "#train_df.info()\n",
    "#train_df[['MSSubClass', 'MSZoning', 'LotArea', 'Utilities', 'Neighborhood',\n",
    "#'Condition1', 'OverallQual', 'OverallCond', 'YearRemodAdd', 'Exterior1st',\n",
    "#'ExterCond', 'Foundation', 'HeatingQC', 'Electrical', '1stFlrSF', 'Functional',\n",
    "#'GarageQual', 'PoolQC', 'Fence', 'MiscFeature', 'MiscVal']].isnull().sum()"
   ]
  },
  {
   "cell_type": "code",
   "execution_count": null,
   "id": "06b3ed4a",
   "metadata": {},
   "outputs": [],
   "source": [
    "X_train = train_df[[\n",
    "    'MSSubClass', 'MSZoning', 'LotArea', 'Utilities', 'Neighborhood',\n",
    "    'Condition1', 'OverallQual', 'OverallCond', 'YearRemodAdd', 'Exterior1st',\n",
    "    'ExterCond', 'Foundation', 'HeatingQC', 'Electrical', '1stFlrSF', 'Functional',\n",
    "    'GarageQual', 'PoolQC', 'Fence', 'MiscFeature', 'MiscVal'\n",
    "]].copy()\n",
    "\n",
    "imputer = SimpleImputer(strategy='constant', fill_value='NA')\n",
    "X_train[[\n",
    "    'Electrical', 'GarageQual', 'PoolQC', 'Fence', 'MiscFeature'\n",
    "]] = imputer.fit_transform(X_train[[\n",
    "    'Electrical', 'GarageQual', 'PoolQC', 'Fence', 'MiscFeature'\n",
    "]])\n",
    "\n",
    "X_train['MSSubClass'] = X_train['MSSubClass'].astype(str)\n",
    "X_train = pd.get_dummies(X_train, drop_first=True)\n",
    "\n",
    "print(\"Размер таблицы X_train:\", X_train.shape)\n",
    "print(\"Пропусков:\", X_train.isnull().sum().sum())"
   ]
  },
  {
   "cell_type": "code",
   "execution_count": null,
   "id": "4e30eab5",
   "metadata": {},
   "outputs": [],
   "source": [
    "X_test = test_dfX[[\n",
    "    'MSSubClass', 'MSZoning', 'LotArea', 'Utilities', 'Neighborhood',\n",
    "    'Condition1', 'OverallQual', 'OverallCond', 'YearRemodAdd', 'Exterior1st',\n",
    "    'ExterCond', 'Foundation', 'HeatingQC', 'Electrical', '1stFlrSF', 'Functional',\n",
    "    'GarageQual', 'PoolQC', 'Fence', 'MiscFeature', 'MiscVal'\n",
    "]].copy()\n",
    "\n",
    "imputer = SimpleImputer(strategy='constant', fill_value='NA')\n",
    "X_test[[\n",
    "    'Electrical', 'GarageQual', 'PoolQC', 'Fence', 'MiscFeature'\n",
    "]] = imputer.fit_transform(X_test[[\n",
    "    'Electrical', 'GarageQual', 'PoolQC', 'Fence', 'MiscFeature'\n",
    "]])\n",
    "\n",
    "X_test['MSSubClass'] = X_test['MSSubClass'].astype(str)\n",
    "X_test = pd.get_dummies(X_test, drop_first=True)\n",
    "\n",
    "print(\"Размер таблицы X_test:\", X_test.shape)\n",
    "print(\"Пропусков:\", X_test.isnull().sum().sum())"
   ]
  },
  {
   "cell_type": "code",
   "execution_count": null,
   "id": "d6acbada",
   "metadata": {},
   "outputs": [],
   "source": [
    "Y_train = train_df[['SalePrice']].copy()\n",
    "Y_test = test_dfY[['SalePrice']].copy()"
   ]
  },
  {
   "cell_type": "code",
   "execution_count": null,
   "id": "11e3cb74",
   "metadata": {},
   "outputs": [],
   "source": [
    "housePriceModel = RandomForestRegressor(\n",
    "    n_estimators=50,\n",
    "    max_depth=None,\n",
    "    min_samples_split=2,\n",
    "    min_samples_leaf=1,\n",
    "    max_features='sqrt',\n",
    "    bootstrap=True,\n",
    "    n_jobs=-1,\n",
    "    random_state=42,\n",
    ")\n",
    "\n",
    "start = time.time()\n",
    "housePriceModel.fit(X_train, Y_train)\n",
    "end = time.time()\n",
    "\n",
    "print(f\"\\nОбучение заняло: {end - start:.3f} секунд\")\n",
    "\n",
    "predictions = housePriceModel.predict(X_test)\n",
    "\n",
    "mae = mean_absolute_error(Y_test, predictions)\n",
    "\n",
    "print(f\"Средняя ошибка: {mae:,.2f} долларов\") \n",
    "\n",
    "feature_importance = pd.DataFrame({\n",
    "    'feature': X_train.columns,\n",
    "    'importance': housePriceModel.feature_importances_\n",
    "})\n",
    "print(\"\\nВажность признаков:\")\n",
    "print(feature_importance.sort_values('importance', ascending=False).head(10))"
   ]
  }
 ],
 "metadata": {
  "kernelspec": {
   "display_name": "venv",
   "language": "python",
   "name": "python3"
  },
  "language_info": {
   "codemirror_mode": {
    "name": "ipython",
    "version": 3
   },
   "file_extension": ".py",
   "mimetype": "text/x-python",
   "name": "python",
   "nbconvert_exporter": "python",
   "pygments_lexer": "ipython3",
   "version": "3.10.12"
  }
 },
 "nbformat": 4,
 "nbformat_minor": 5
}
