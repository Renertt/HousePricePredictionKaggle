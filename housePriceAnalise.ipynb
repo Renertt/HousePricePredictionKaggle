{
 "cells": [
  {
   "cell_type": "code",
   "execution_count": 276,
   "id": "4cf0b8b9",
   "metadata": {},
   "outputs": [],
   "source": [
    "import pandas as pd\n",
    "from sklearn.ensemble import RandomForestRegressor\n",
    "from sklearn.multioutput import MultiOutputClassifier\n",
    "from sklearn.model_selection import train_test_split\n",
    "from sklearn.preprocessing import LabelEncoder\n",
    "from sklearn.impute import SimpleImputer\n",
    "from sklearn.metrics import mean_absolute_error\n",
    "import numpy as np\n",
    "import time"
   ]
  },
  {
   "cell_type": "code",
   "execution_count": 277,
   "id": "22b9cd6a",
   "metadata": {},
   "outputs": [],
   "source": [
    "train_df = pd.read_csv('data/train.csv')"
   ]
  },
  {
   "cell_type": "code",
   "execution_count": 278,
   "id": "226426bf",
   "metadata": {},
   "outputs": [],
   "source": [
    "#train_df.info()\n",
    "#train_df[['MSSubClass', 'MSZoning', 'LotArea', 'Utilities', 'Neighborhood',\n",
    "#'Condition1', 'OverallQual', 'OverallCond', 'YearRemodAdd', 'Exterior1st',\n",
    "#'ExterCond', 'Foundation', 'HeatingQC', 'Electrical', '1stFlrSF', 'Functional',\n",
    "#'GarageQual', 'PoolQC', 'Fence', 'MiscFeature', 'MiscVal']].isnull().sum()"
   ]
  },
  {
   "cell_type": "code",
   "execution_count": 279,
   "id": "06b3ed4a",
   "metadata": {},
   "outputs": [
    {
     "name": "stdout",
     "output_type": "stream",
     "text": [
      "X table size: (1460, 111)\n",
      "NA: 0\n"
     ]
    }
   ],
   "source": [
    "X = train_df[[\n",
    "    'MSSubClass',\n",
    "    'MSZoning',\n",
    "    'LotArea', \n",
    "    'Utilities', \n",
    "    'Neighborhood',\n",
    "    'Condition1', \n",
    "    'OverallQual', \n",
    "    'OverallCond', \n",
    "    'YearRemodAdd', \n",
    "    'Exterior1st',\n",
    "    'ExterCond', \n",
    "    'Foundation', \n",
    "    'HeatingQC', \n",
    "    'Electrical', \n",
    "    '1stFlrSF', \n",
    "    'Functional',\n",
    "    'GarageQual', \n",
    "    'PoolQC', \n",
    "    'Fence', \n",
    "    'MiscFeature', \n",
    "    'MiscVal'\n",
    "]].copy()\n",
    "\n",
    "imputer = SimpleImputer(strategy='constant', fill_value='NA')\n",
    "X[[\n",
    "    'Electrical', \n",
    "    'GarageQual', \n",
    "    'PoolQC', \n",
    "    'Fence', \n",
    "    'MiscFeature'\n",
    "]] = imputer.fit_transform(X[[\n",
    "    'Electrical', \n",
    "    'GarageQual', \n",
    "    'PoolQC', \n",
    "    'Fence', \n",
    "    'MiscFeature'\n",
    "]])\n",
    "\n",
    "X['MSSubClass'] = X['MSSubClass'].astype(str)\n",
    "X = pd.get_dummies(X, drop_first=True)\n",
    "\n",
    "print(\"X table size:\", X.shape)\n",
    "print(\"NA:\", X.isnull().sum().sum())"
   ]
  },
  {
   "cell_type": "code",
   "execution_count": 280,
   "id": "d6acbada",
   "metadata": {},
   "outputs": [],
   "source": [
    "Y = train_df[['SalePrice']].copy()"
   ]
  },
  {
   "cell_type": "code",
   "execution_count": 281,
   "id": "c4775bbc",
   "metadata": {},
   "outputs": [],
   "source": [
    "X_train, X_test, Y_train, Y_test = train_test_split(X, Y, test_size=0.2, random_state=42)"
   ]
  },
  {
   "cell_type": "code",
   "execution_count": 286,
   "id": "11e3cb74",
   "metadata": {},
   "outputs": [
    {
     "name": "stderr",
     "output_type": "stream",
     "text": [
      "/home/renertt/Документы/Machine Learning/housePriceML/venv/lib/python3.10/site-packages/sklearn/base.py:1365: DataConversionWarning: A column-vector y was passed when a 1d array was expected. Please change the shape of y to (n_samples,), for example using ravel().\n",
      "  return fit_method(estimator, *args, **kwargs)\n"
     ]
    },
    {
     "name": "stdout",
     "output_type": "stream",
     "text": [
      "\n",
      "Training finished in: 3.983 seconds\n",
      "MedinAverage error 21,624.77 dollars\n",
      "\n",
      "Importance of features:\n",
      "                 feature  importance\n",
      "1            OverallQual    0.195137\n",
      "4               1stFlrSF    0.157645\n",
      "0                LotArea    0.099688\n",
      "3           YearRemodAdd    0.088516\n",
      "76      Foundation_PConc    0.051704\n",
      "..                   ...         ...\n",
      "82          HeatingQC_Po    0.000025\n",
      "87         Electrical_NA    0.000024\n",
      "55       Condition1_RRNe    0.000020\n",
      "25  Neighborhood_Blueste    0.000009\n",
      "86        Electrical_Mix    0.000000\n",
      "\n",
      "[111 rows x 2 columns]\n"
     ]
    }
   ],
   "source": [
    "housePriceModel = RandomForestRegressor(\n",
    "    n_estimators=5000,\n",
    "    max_depth=None,\n",
    "    min_samples_split=2,\n",
    "    min_samples_leaf=1,\n",
    "    max_features='sqrt',\n",
    "    bootstrap=True,\n",
    "    n_jobs=-1,\n",
    "    random_state=42,\n",
    ")\n",
    "\n",
    "start = time.time()\n",
    "housePriceModel.fit(X_train, Y_train)\n",
    "end = time.time()\n",
    "\n",
    "print(f\"\\nTraining finished in: {end - start:.3f} seconds\")\n",
    "\n",
    "predictions = housePriceModel.predict(X_test)\n",
    "\n",
    "mae = mean_absolute_error(Y_test, predictions)\n",
    "\n",
    "print(f\"MedinAverage error {mae:,.2f} dollars\") \n",
    "\n",
    "feature_importance = pd.DataFrame({\n",
    "    'feature': X_train.columns,\n",
    "    'importance': housePriceModel.feature_importances_\n",
    "})\n",
    "print(\"\\nImportance of features:\")\n",
    "print(feature_importance.sort_values('importance', ascending=False))"
   ]
  },
  {
   "cell_type": "code",
   "execution_count": 283,
   "id": "46da69d8",
   "metadata": {},
   "outputs": [
    {
     "name": "stdout",
     "output_type": "stream",
     "text": [
      "Model mistaken by: 11.92 %\n"
     ]
    }
   ],
   "source": [
    "print(\"Model mistaken by:\",round((mae / np.mean(Y_train)) * 100, 2), \"%\")\n",
    "#print(\"Model mistaken by:\",((mae / np.mean(Y_train)) * 100), \"%\")"
   ]
  }
 ],
 "metadata": {
  "kernelspec": {
   "display_name": "venv",
   "language": "python",
   "name": "python3"
  },
  "language_info": {
   "codemirror_mode": {
    "name": "ipython",
    "version": 3
   },
   "file_extension": ".py",
   "mimetype": "text/x-python",
   "name": "python",
   "nbconvert_exporter": "python",
   "pygments_lexer": "ipython3",
   "version": "3.10.12"
  }
 },
 "nbformat": 4,
 "nbformat_minor": 5
}
