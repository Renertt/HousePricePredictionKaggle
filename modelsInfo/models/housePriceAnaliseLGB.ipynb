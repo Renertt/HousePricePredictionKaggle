{
 "cells": [
  {
   "cell_type": "code",
   "execution_count": null,
   "id": "4cf0b8b9",
   "metadata": {},
   "outputs": [],
   "source": [
    "import pandas as pd\n",
    "import lightgbm as lgb\n",
    "from sklearn.model_selection import train_test_split\n",
    "from sklearn.impute import SimpleImputer\n",
    "from sklearn.metrics import mean_absolute_error\n",
    "import numpy as np\n",
    "import time\n",
    "import json\n",
    "import os"
   ]
  },
  {
   "cell_type": "code",
   "execution_count": null,
   "id": "22b9cd6a",
   "metadata": {},
   "outputs": [],
   "source": [
    "try:\n",
    "    trainDf = pd.read_csv('data/train.csv')\n",
    "    rootCheck = True \n",
    "except FileNotFoundError:\n",
    "    trainDf = pd.read_csv('../../data/train.csv')\n",
    "    rootCheck = False"
   ]
  },
  {
   "cell_type": "code",
   "execution_count": null,
   "id": "226426bf",
   "metadata": {},
   "outputs": [],
   "source": [
    "#train_df.info()\n",
    "#train_df[['MSSubClass', 'MSZoning', 'LotArea', 'Utilities', 'Neighborhood',\n",
    "#'Condition1', 'OverallQual', 'OverallCond', 'YearRemodAdd', 'Exterior1st',\n",
    "#'ExterCond', 'Foundation', 'HeatingQC', 'Electrical', '1stFlrSF', 'Functional',\n",
    "#'GarageQual', 'PoolQC', 'Fence', 'MiscFeature', 'MiscVal', 'SaleCondition',\n",
    "#'YrSold']].isnull().sum()"
   ]
  },
  {
   "cell_type": "code",
   "execution_count": null,
   "id": "06b3ed4a",
   "metadata": {},
   "outputs": [],
   "source": [
    "X = trainDf[[\n",
    "    'MSSubClass',\n",
    "    'MSZoning',\n",
    "    'LotArea', \n",
    "    #'Utilities', \n",
    "    'Neighborhood',\n",
    "    'Condition1', \n",
    "    'OverallQual', \n",
    "    'OverallCond', \n",
    "    'YearRemodAdd', \n",
    "    'Exterior1st',\n",
    "    'ExterCond', \n",
    "    'Foundation', \n",
    "    'HeatingQC', \n",
    "    'Electrical', \n",
    "    #'1stFlrSF',\n",
    "    'GrLivArea',\n",
    "    'Functional',\n",
    "    'GarageQual', \n",
    "    'PoolQC', \n",
    "    'Fence', \n",
    "    'MiscFeature', \n",
    "    'MiscVal'\n",
    "    #'SaleCondition'\n",
    "    #'YrSold'\n",
    "]].copy()\n",
    "\n",
    "imputer = SimpleImputer(strategy='constant', fill_value='NA')\n",
    "X[[\n",
    "    'Electrical', \n",
    "    'GarageQual', \n",
    "    'PoolQC', \n",
    "    'Fence', \n",
    "    'MiscFeature'\n",
    "]] = imputer.fit_transform(X[[\n",
    "    'Electrical', \n",
    "    'GarageQual', \n",
    "    'PoolQC', \n",
    "    'Fence', \n",
    "    'MiscFeature'\n",
    "]])\n",
    "\n",
    "X['MSSubClass'] = X['MSSubClass'].astype(str)\n",
    "X = pd.get_dummies(X, drop_first=True)\n",
    "\n",
    "print(\"X table size:\", X.shape)\n",
    "print(\"NA:\", X.isnull().sum().sum())"
   ]
  },
  {
   "cell_type": "code",
   "execution_count": null,
   "id": "d6acbada",
   "metadata": {},
   "outputs": [],
   "source": [
    "Y = trainDf[['SalePrice']].copy()"
   ]
  },
  {
   "cell_type": "code",
   "execution_count": null,
   "id": "c4775bbc",
   "metadata": {},
   "outputs": [],
   "source": [
    "X_train, X_test, Y_train, Y_test = train_test_split(X, Y, test_size=0.2, random_state=42)"
   ]
  },
  {
   "cell_type": "code",
   "execution_count": null,
   "id": "11e3cb74",
   "metadata": {},
   "outputs": [],
   "source": [
    "housePriceModelLGB = lgb.LGBMRegressor(\n",
    "    n_estimators=10000,\n",
    "    learning_rate=0.001,\n",
    "    max_depth=None,\n",
    "    subsample=0.8,\n",
    "    colsample_bytree=0.9,\n",
    "    n_jobs=-1,\n",
    "    random_state=42,\n",
    "    #device='cuda',\n",
    "    #early_stopping_rounds=100\n",
    ")\n",
    "\n",
    "start = time.time()\n",
    "housePriceModelLGB.fit(X_train, Y_train)\n",
    "end = time.time()\n",
    "\n",
    "predictions = housePriceModelLGB.predict(X_test)\n",
    "\n",
    "feature_importance = pd.DataFrame({\n",
    "    'feature': X.columns,\n",
    "    'importance': housePriceModelLGB.feature_importances_\n",
    "})\n",
    "\n",
    "feature_importance['base_feature'] = feature_importance['feature'].apply(lambda x: x.split('_')[0])\n",
    "\n",
    "aggregated_importance = feature_importance.groupby('base_feature')['importance'].sum().sort_values(ascending=False)\n",
    "\n",
    "mae = mean_absolute_error(Y_test, predictions)\n",
    "mape = round((mae / np.mean(Y_train)) * 100, 2)"
   ]
  },
  {
   "cell_type": "code",
   "execution_count": null,
   "id": "246d9aaa",
   "metadata": {},
   "outputs": [],
   "source": [
    "if rootCheck == True:\n",
    "    resultData = {\n",
    "        \"modelName\": \"LGBoost\",\n",
    "        \"mae\" : mae,\n",
    "        \"mape\": mape,\n",
    "        \"predictions\" : predictions\n",
    "    }\n",
    "\n",
    "    resultsDir = 'modelsInfo/collectedData'\n",
    "    os.makedirs(resultsDir, exist_ok=True)\n",
    "\n",
    "    file_path = os.path.join(resultsDir, 'resultsLGB.json')\n",
    "    with open(file_path, 'w') as f:\n",
    "        json.dump(resultData, f)\n",
    "else: #Debug\n",
    "    print(f\"\\nTraining finished in: {end - start:.3f} seconds\")\n",
    "    print(f\"\\nMedinAverage error {mae:,.2f} dollars\") \n",
    "    print(\"\\nModel mistaken by:\", mape, \"%\")\n",
    "\n",
    "    print(\"\\nImportance:\")\n",
    "    print(aggregated_importance)"
   ]
  }
 ],
 "metadata": {
  "kernelspec": {
   "display_name": "venv",
   "language": "python",
   "name": "python3"
  },
  "language_info": {
   "codemirror_mode": {
    "name": "ipython",
    "version": 3
   },
   "file_extension": ".py",
   "mimetype": "text/x-python",
   "name": "python",
   "nbconvert_exporter": "python",
   "pygments_lexer": "ipython3",
   "version": "3.10.12"
  }
 },
 "nbformat": 4,
 "nbformat_minor": 5
}
