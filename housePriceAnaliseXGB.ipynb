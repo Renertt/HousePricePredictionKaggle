{
 "cells": [
  {
   "cell_type": "code",
   "execution_count": 149,
   "id": "4cf0b8b9",
   "metadata": {},
   "outputs": [],
   "source": [
    "import pandas as pd\n",
    "from xgboost import XGBRegressor\n",
    "from sklearn.model_selection import train_test_split\n",
    "from sklearn.impute import SimpleImputer\n",
    "from sklearn.metrics import mean_absolute_error\n",
    "import numpy as np\n",
    "import time"
   ]
  },
  {
   "cell_type": "code",
   "execution_count": 150,
   "id": "22b9cd6a",
   "metadata": {},
   "outputs": [],
   "source": [
    "train_df = pd.read_csv('data/train.csv')"
   ]
  },
  {
   "cell_type": "code",
   "execution_count": 151,
   "id": "226426bf",
   "metadata": {},
   "outputs": [],
   "source": [
    "#train_df.info()\n",
    "#train_df[['MSSubClass', 'MSZoning', 'LotArea', 'Utilities', 'Neighborhood',\n",
    "#'Condition1', 'OverallQual', 'OverallCond', 'YearRemodAdd', 'Exterior1st',\n",
    "#'ExterCond', 'Foundation', 'HeatingQC', 'Electrical', '1stFlrSF', 'Functional',\n",
    "#'GarageQual', 'PoolQC', 'Fence', 'MiscFeature', 'MiscVal', 'SaleCondition',\n",
    "#'YrSold']].isnull().sum()"
   ]
  },
  {
   "cell_type": "code",
   "execution_count": 152,
   "id": "06b3ed4a",
   "metadata": {},
   "outputs": [
    {
     "name": "stdout",
     "output_type": "stream",
     "text": [
      "X table size: (1460, 110)\n",
      "NA: 0\n"
     ]
    }
   ],
   "source": [
    "X = train_df[[\n",
    "    'MSSubClass',\n",
    "    'MSZoning',\n",
    "    'LotArea', \n",
    "    #'Utilities', \n",
    "    'Neighborhood',\n",
    "    'Condition1', \n",
    "    'OverallQual', \n",
    "    'OverallCond', \n",
    "    'YearRemodAdd', \n",
    "    'Exterior1st',\n",
    "    'ExterCond', \n",
    "    'Foundation', \n",
    "    'HeatingQC', \n",
    "    'Electrical', \n",
    "    #'1stFlrSF',\n",
    "    'GrLivArea',\n",
    "    'Functional',\n",
    "    'GarageQual', \n",
    "    'PoolQC', \n",
    "    'Fence', \n",
    "    'MiscFeature', \n",
    "    'MiscVal'\n",
    "    #'SaleCondition'\n",
    "    #'YrSold'\n",
    "]].copy()\n",
    "\n",
    "imputer = SimpleImputer(strategy='constant', fill_value='NA')\n",
    "X[[\n",
    "    'Electrical', \n",
    "    'GarageQual', \n",
    "    'PoolQC', \n",
    "    'Fence', \n",
    "    'MiscFeature'\n",
    "]] = imputer.fit_transform(X[[\n",
    "    'Electrical', \n",
    "    'GarageQual', \n",
    "    'PoolQC', \n",
    "    'Fence', \n",
    "    'MiscFeature'\n",
    "]])\n",
    "\n",
    "X['MSSubClass'] = X['MSSubClass'].astype(str)\n",
    "X = pd.get_dummies(X, drop_first=True)\n",
    "\n",
    "print(\"X table size:\", X.shape)\n",
    "print(\"NA:\", X.isnull().sum().sum())"
   ]
  },
  {
   "cell_type": "code",
   "execution_count": 153,
   "id": "d6acbada",
   "metadata": {},
   "outputs": [],
   "source": [
    "Y = train_df[['SalePrice']].copy()"
   ]
  },
  {
   "cell_type": "code",
   "execution_count": 154,
   "id": "c4775bbc",
   "metadata": {},
   "outputs": [],
   "source": [
    "X_train, X_test, Y_train, Y_test = train_test_split(X, Y, test_size=0.2, random_state=42)"
   ]
  },
  {
   "cell_type": "code",
   "execution_count": 155,
   "id": "11e3cb74",
   "metadata": {},
   "outputs": [
    {
     "name": "stderr",
     "output_type": "stream",
     "text": [
      "/home/renertt/Документы/Machine Learning/housePriceML/venv/lib/python3.10/site-packages/xgboost/training.py:183: UserWarning: [19:36:14] WARNING: /workspace/src/context.cc:49: No visible GPU is found, setting device to CPU.\n",
      "  bst.update(dtrain, iteration=i, fobj=obj)\n",
      "/home/renertt/Документы/Machine Learning/housePriceML/venv/lib/python3.10/site-packages/xgboost/training.py:183: UserWarning: [19:36:14] WARNING: /workspace/src/context.cc:203: XGBoost is not compiled with CUDA support.\n",
      "  bst.update(dtrain, iteration=i, fobj=obj)\n"
     ]
    },
    {
     "name": "stdout",
     "output_type": "stream",
     "text": [
      "\n",
      "Training finished in: 16.150 seconds\n",
      "MedinAverage error 16,948.00 dollars\n",
      "\n",
      "Importance:\n",
      "base_feature\n",
      "Neighborhood    0.238970\n",
      "OverallQual     0.162202\n",
      "Foundation      0.114833\n",
      "MSSubClass      0.079554\n",
      "Exterior1st     0.061710\n",
      "PoolQC          0.050728\n",
      "MSZoning        0.049768\n",
      "GarageQual      0.046253\n",
      "Condition1      0.043824\n",
      "GrLivArea       0.038085\n",
      "Functional      0.029001\n",
      "YearRemodAdd    0.017558\n",
      "HeatingQC       0.016469\n",
      "Fence           0.012240\n",
      "ExterCond       0.010617\n",
      "LotArea         0.010110\n",
      "OverallCond     0.006811\n",
      "Electrical      0.004808\n",
      "MiscFeature     0.004567\n",
      "MiscVal         0.001892\n",
      "Name: importance, dtype: float32\n"
     ]
    }
   ],
   "source": [
    "housePriceModelXGB = XGBRegressor(\n",
    "    n_estimators=25000,\n",
    "    learning_rate=0.001,\n",
    "    max_depth=5,\n",
    "    subsample=0.8,\n",
    "    colsample_bytree=0.6,\n",
    "    n_jobs=-1,\n",
    "    random_state=42,\n",
    "    device='cuda',\n",
    "    #early_stopping_rounds=100\n",
    ")\n",
    "\n",
    "start = time.time()\n",
    "housePriceModelXGB.fit(X_train, Y_train)\n",
    "end = time.time()\n",
    "\n",
    "print(f\"\\nTraining finished in: {end - start:.3f} seconds\")\n",
    "\n",
    "predictions = housePriceModelXGB.predict(X_test)\n",
    "\n",
    "mae = mean_absolute_error(Y_test, predictions)\n",
    "\n",
    "print(f\"MedinAverage error {mae:,.2f} dollars\") \n",
    "\n",
    "feature_importance = pd.DataFrame({\n",
    "    'feature': X.columns,\n",
    "    'importance': housePriceModelXGB.feature_importances_\n",
    "})\n",
    "\n",
    "feature_importance['base_feature'] = feature_importance['feature'].apply(lambda x: x.split('_')[0])\n",
    "\n",
    "aggregated_importance = feature_importance.groupby('base_feature')['importance'].sum().sort_values(ascending=False)\n",
    "\n",
    "print(\"\\nImportance:\")\n",
    "print(aggregated_importance)"
   ]
  },
  {
   "cell_type": "code",
   "execution_count": 156,
   "id": "35e1d243",
   "metadata": {},
   "outputs": [
    {
     "name": "stdout",
     "output_type": "stream",
     "text": [
      "Model mistaken by: 9.34 %\n"
     ]
    }
   ],
   "source": [
    "print(\"Model mistaken by:\",round((mae / np.mean(Y_train)) * 100, 2), \"%\")\n",
    "#print(\"Model mistaken by:\",((mae / np.mean(Y_train)) * 100), \"%\")"
   ]
  }
 ],
 "metadata": {
  "kernelspec": {
   "display_name": "venv",
   "language": "python",
   "name": "python3"
  },
  "language_info": {
   "codemirror_mode": {
    "name": "ipython",
    "version": 3
   },
   "file_extension": ".py",
   "mimetype": "text/x-python",
   "name": "python",
   "nbconvert_exporter": "python",
   "pygments_lexer": "ipython3",
   "version": "3.10.12"
  }
 },
 "nbformat": 4,
 "nbformat_minor": 5
}
