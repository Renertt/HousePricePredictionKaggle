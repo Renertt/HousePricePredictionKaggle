{
 "cells": [
  {
   "cell_type": "code",
   "execution_count": null,
   "id": "4cf0b8b9",
   "metadata": {},
   "outputs": [],
   "source": [
    "import pandas as pd\n",
    "from sklearn.ensemble import RandomForestRegressor\n",
    "from sklearn.model_selection import train_test_split\n",
    "from sklearn.impute import SimpleImputer\n",
    "from sklearn.metrics import mean_absolute_error\n",
    "import numpy as np\n",
    "import time"
   ]
  },
  {
   "cell_type": "code",
   "execution_count": 423,
   "id": "22b9cd6a",
   "metadata": {},
   "outputs": [],
   "source": [
    "train_df = pd.read_csv('data/train.csv')"
   ]
  },
  {
   "cell_type": "code",
   "execution_count": 424,
   "id": "226426bf",
   "metadata": {},
   "outputs": [],
   "source": [
    "#train_df.info()\n",
    "#train_df[['MSSubClass', 'MSZoning', 'LotArea', 'Utilities', 'Neighborhood',\n",
    "#'Condition1', 'OverallQual', 'OverallCond', 'YearRemodAdd', 'Exterior1st',\n",
    "#'ExterCond', 'Foundation', 'HeatingQC', 'Electrical', '1stFlrSF', 'Functional',\n",
    "#'GarageQual', 'PoolQC', 'Fence', 'MiscFeature', 'MiscVal', 'SaleCondition',\n",
    "#'YrSold']].isnull().sum()"
   ]
  },
  {
   "cell_type": "code",
   "execution_count": 425,
   "id": "06b3ed4a",
   "metadata": {},
   "outputs": [
    {
     "name": "stdout",
     "output_type": "stream",
     "text": [
      "X table size: (1460, 110)\n",
      "NA: 0\n"
     ]
    }
   ],
   "source": [
    "X = train_df[[\n",
    "    'MSSubClass',\n",
    "    'MSZoning',\n",
    "    'LotArea', \n",
    "    #'Utilities', \n",
    "    'Neighborhood',\n",
    "    'Condition1', \n",
    "    'OverallQual', \n",
    "    'OverallCond', \n",
    "    'YearRemodAdd', \n",
    "    'Exterior1st',\n",
    "    'ExterCond', \n",
    "    'Foundation', \n",
    "    'HeatingQC', \n",
    "    'Electrical', \n",
    "    #'1stFlrSF',\n",
    "    'GrLivArea',\n",
    "    'Functional',\n",
    "    'GarageQual', \n",
    "    'PoolQC', \n",
    "    'Fence', \n",
    "    'MiscFeature', \n",
    "    'MiscVal'\n",
    "    #'SaleCondition'\n",
    "    #'YrSold'\n",
    "]].copy()\n",
    "\n",
    "imputer = SimpleImputer(strategy='constant', fill_value='NA')\n",
    "X[[\n",
    "    'Electrical', \n",
    "    'GarageQual', \n",
    "    'PoolQC', \n",
    "    'Fence', \n",
    "    'MiscFeature'\n",
    "]] = imputer.fit_transform(X[[\n",
    "    'Electrical', \n",
    "    'GarageQual', \n",
    "    'PoolQC', \n",
    "    'Fence', \n",
    "    'MiscFeature'\n",
    "]])\n",
    "\n",
    "X['MSSubClass'] = X['MSSubClass'].astype(str)\n",
    "X = pd.get_dummies(X, drop_first=True)\n",
    "\n",
    "print(\"X table size:\", X.shape)\n",
    "print(\"NA:\", X.isnull().sum().sum())"
   ]
  },
  {
   "cell_type": "code",
   "execution_count": 426,
   "id": "d6acbada",
   "metadata": {},
   "outputs": [],
   "source": [
    "Y = train_df[['SalePrice']].copy()"
   ]
  },
  {
   "cell_type": "code",
   "execution_count": 427,
   "id": "c4775bbc",
   "metadata": {},
   "outputs": [],
   "source": [
    "X_train, X_test, Y_train, Y_test = train_test_split(X, Y, test_size=0.2, random_state=42)"
   ]
  },
  {
   "cell_type": "code",
   "execution_count": 428,
   "id": "11e3cb74",
   "metadata": {},
   "outputs": [
    {
     "name": "stderr",
     "output_type": "stream",
     "text": [
      "/home/renertt/Документы/Machine Learning/housePriceML/venv/lib/python3.10/site-packages/sklearn/base.py:1365: DataConversionWarning: A column-vector y was passed when a 1d array was expected. Please change the shape of y to (n_samples,), for example using ravel().\n",
      "  return fit_method(estimator, *args, **kwargs)\n"
     ]
    },
    {
     "name": "stdout",
     "output_type": "stream",
     "text": [
      "\n",
      "Training finished in: 5.020 seconds\n",
      "MedinAverage error 20,628.55 dollars\n",
      "\n",
      "Importance:\n",
      "base_feature\n",
      "OverallQual     0.196600\n",
      "GrLivArea       0.182282\n",
      "Neighborhood    0.115569\n",
      "LotArea         0.096518\n",
      "YearRemodAdd    0.089928\n",
      "Foundation      0.071727\n",
      "MSSubClass      0.057885\n",
      "Exterior1st     0.045428\n",
      "MSZoning        0.024404\n",
      "HeatingQC       0.021536\n",
      "GarageQual      0.020632\n",
      "OverallCond     0.018429\n",
      "Fence           0.012807\n",
      "Condition1      0.010965\n",
      "ExterCond       0.010187\n",
      "Functional      0.008139\n",
      "PoolQC          0.007423\n",
      "Electrical      0.006658\n",
      "MiscFeature     0.001687\n",
      "MiscVal         0.001195\n",
      "Name: importance, dtype: float64\n"
     ]
    }
   ],
   "source": [
    "housePriceModel = RandomForestRegressor(\n",
    "    n_estimators=5500,\n",
    "    max_depth=None,\n",
    "    min_samples_split=2,\n",
    "    min_samples_leaf=1,\n",
    "    max_features='sqrt',\n",
    "    bootstrap=True,\n",
    "    n_jobs=-1,\n",
    "    random_state=42,\n",
    ")\n",
    "\n",
    "start = time.time()\n",
    "housePriceModel.fit(X_train, Y_train)\n",
    "end = time.time()\n",
    "\n",
    "print(f\"\\nTraining finished in: {end - start:.3f} seconds\")\n",
    "\n",
    "predictions = housePriceModel.predict(X_test)\n",
    "\n",
    "mae = mean_absolute_error(Y_test, predictions)\n",
    "\n",
    "print(f\"MedinAverage error {mae:,.2f} dollars\") \n",
    "\n",
    "feature_importance = pd.DataFrame({\n",
    "    'feature': X.columns,\n",
    "    'importance': housePriceModel.feature_importances_\n",
    "})\n",
    "\n",
    "feature_importance['base_feature'] = feature_importance['feature'].apply(lambda x: x.split('_')[0])\n",
    "\n",
    "aggregated_importance = feature_importance.groupby('base_feature')['importance'].sum().sort_values(ascending=False)\n",
    "\n",
    "print(\"\\nImportance:\")\n",
    "print(aggregated_importance)"
   ]
  },
  {
   "cell_type": "code",
   "execution_count": 429,
   "id": "46da69d8",
   "metadata": {},
   "outputs": [
    {
     "name": "stdout",
     "output_type": "stream",
     "text": [
      "Model mistaken by: 11.37 %\n"
     ]
    }
   ],
   "source": [
    "print(\"Model mistaken by:\",round((mae / np.mean(Y_train)) * 100, 2), \"%\")\n",
    "#print(\"Model mistaken by:\",((mae / np.mean(Y_train)) * 100), \"%\")"
   ]
  }
 ],
 "metadata": {
  "kernelspec": {
   "display_name": "venv",
   "language": "python",
   "name": "python3"
  },
  "language_info": {
   "codemirror_mode": {
    "name": "ipython",
    "version": 3
   },
   "file_extension": ".py",
   "mimetype": "text/x-python",
   "name": "python",
   "nbconvert_exporter": "python",
   "pygments_lexer": "ipython3",
   "version": "3.10.12"
  }
 },
 "nbformat": 4,
 "nbformat_minor": 5
}
